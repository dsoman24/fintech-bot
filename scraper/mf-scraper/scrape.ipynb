{
 "cells": [
  {
   "attachments": {},
   "cell_type": "markdown",
   "metadata": {},
   "source": [
    "# Scraper Notebook\n",
    "\n",
    "#### Steps:\n",
    "\n",
    "Create a MotleyFoolScraper object and call scrape(url) on it to generate the txt files per speaker remark"
   ]
  },
  {
   "cell_type": "code",
   "execution_count": 1,
   "metadata": {},
   "outputs": [],
   "source": [
    "from ec_scraper import MotleyFoolScraper\n",
    "import os\n",
    "import time"
   ]
  },
  {
   "attachments": {},
   "cell_type": "markdown",
   "metadata": {},
   "source": [
    "Then, call scrape(url) on it to scrape it, gets text per speaker and put it in ./mfs-data/[company name]-\\[ticker\\]-\\[quarter\\]-\\[year\\]/[speaker name]_\\[position\\]. Returns True if the request was valid, False otherwise."
   ]
  },
  {
   "cell_type": "code",
   "execution_count": 2,
   "metadata": {},
   "outputs": [],
   "source": [
    "mfs = MotleyFoolScraper() # write = False is default, this does not write to txt files.\n",
    "delay = 0\n",
    "directory = \"ec_urls\""
   ]
  },
  {
   "attachments": {},
   "cell_type": "markdown",
   "metadata": {},
   "source": [
    "Run this cell to scrape the data"
   ]
  },
  {
   "cell_type": "code",
   "execution_count": 3,
   "metadata": {},
   "outputs": [],
   "source": [
    "url_txt = os.listdir(directory)\n",
    "\n",
    "for filename in url_txt:\n",
    "    with open(f\"{directory}/{filename}\") as f:\n",
    "        urls = f.readlines()\n",
    "    for url in urls:\n",
    "        time.sleep(delay)\n",
    "        response = mfs.scrape(url = url, write = True, print_info = False)"
   ]
  },
  {
   "attachments": {},
   "cell_type": "markdown",
   "metadata": {},
   "source": [
    "if there is False in the speaker name, this person is part of the company and not a \"question asker\""
   ]
  }
 ],
 "metadata": {
  "kernelspec": {
   "display_name": "Python 3",
   "language": "python",
   "name": "python3"
  },
  "language_info": {
   "codemirror_mode": {
    "name": "ipython",
    "version": 3
   },
   "file_extension": ".py",
   "mimetype": "text/x-python",
   "name": "python",
   "nbconvert_exporter": "python",
   "pygments_lexer": "ipython3",
   "version": "3.9.0"
  },
  "orig_nbformat": 4
 },
 "nbformat": 4,
 "nbformat_minor": 2
}
