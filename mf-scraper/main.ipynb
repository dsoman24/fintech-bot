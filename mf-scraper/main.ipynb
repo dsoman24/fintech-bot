{
 "cells": [
  {
   "attachments": {},
   "cell_type": "markdown",
   "metadata": {},
   "source": [
    "# Scraper Notebook\n",
    "\n",
    "#### Steps:\n",
    "\n",
    "Create a MotleyFoolScraper object and call scrape(url) on it to generate the txt files per speaker remark"
   ]
  },
  {
   "cell_type": "code",
   "execution_count": 7,
   "metadata": {},
   "outputs": [],
   "source": [
    "from scraper import MotleyFoolScraper"
   ]
  },
  {
   "attachments": {},
   "cell_type": "markdown",
   "metadata": {},
   "source": [
    "Then, call scrape(url) on it to scrape it, gets text per speaker and put it in ./mfs-data/[company name]-\\[ticker\\]-\\[quarter\\]-\\[year\\]/[speaker name]_\\[position\\]. Returns True if the request was valid, False otherwise."
   ]
  },
  {
   "cell_type": "code",
   "execution_count": 8,
   "metadata": {},
   "outputs": [],
   "source": [
    "mfs = MotleyFoolScraper(write = True) # write = False is default, this does not write to txt files."
   ]
  },
  {
   "attachments": {},
   "cell_type": "markdown",
   "metadata": {},
   "source": [
    "Example on DocuSign Q4 2023:"
   ]
  },
  {
   "cell_type": "code",
   "execution_count": 9,
   "metadata": {},
   "outputs": [
    {
     "name": "stdout",
     "output_type": "stream",
     "text": [
      "================ ('Oil-Dri Of America', 'ODC', 2, 2023) ================\n",
      "Chris Lamson -- Vice President, Retail and Wholesale\n",
      "Aaron Christiansen -- Vice President, Operations\n",
      "Susan Kreh -- Chief Financial Officer\n",
      "Dan Jaffee -- President and Chief Executive Officer\n",
      "Leslie Garber -- Investor Relations Manager\n",
      "\n"
     ]
    },
    {
     "data": {
      "text/plain": [
       "True"
      ]
     },
     "execution_count": 9,
     "metadata": {},
     "output_type": "execute_result"
    }
   ],
   "source": [
    "mfs.scrape(\"https://www.fool.com/earnings/call-transcripts/2023/03/10/oil-dri-of-america-odc-q2-2023-earnings-call-trans/\")"
   ]
  }
 ],
 "metadata": {
  "kernelspec": {
   "display_name": "Python 3",
   "language": "python",
   "name": "python3"
  },
  "language_info": {
   "codemirror_mode": {
    "name": "ipython",
    "version": 3
   },
   "file_extension": ".py",
   "mimetype": "text/x-python",
   "name": "python",
   "nbconvert_exporter": "python",
   "pygments_lexer": "ipython3",
   "version": "3.9.0"
  },
  "orig_nbformat": 4
 },
 "nbformat": 4,
 "nbformat_minor": 2
}
